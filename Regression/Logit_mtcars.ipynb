{
 "cells": [
  {
   "cell_type": "code",
   "execution_count": 3,
   "metadata": {},
   "outputs": [
    {
     "name": "stderr",
     "output_type": "stream",
     "text": [
      "/Users/harsha/anaconda3/lib/python3.6/site-packages/sklearn/utils/validation.py:578: DataConversionWarning: A column-vector y was passed when a 1d array was expected. Please change the shape of y to (n_samples, ), for example using ravel().\n",
      "  y = column_or_1d(y, warn=True)\n"
     ]
    },
    {
     "name": "stdout",
     "output_type": "stream",
     "text": [
      "[1]\n",
      "[0]\n",
      "[1]\n"
     ]
    },
    {
     "name": "stderr",
     "output_type": "stream",
     "text": [
      "/Users/harsha/anaconda3/lib/python3.6/site-packages/statsmodels/compat/pandas.py:56: FutureWarning: The pandas.core.datetools module is deprecated and will be removed in a future version. Please use the pandas.tseries module instead.\n",
      "  from pandas.core import datetools\n"
     ]
    },
    {
     "name": "stdout",
     "output_type": "stream",
     "text": [
      "Optimization terminated successfully.\n",
      "         Current function value: 0.653911\n",
      "         Iterations 4\n",
      "0    0.410963\n",
      "dtype: float64\n"
     ]
    }
   ],
   "source": [
    "# Goal is to develop a logit predictive model, verify with test data and find accuracy of the data\n",
    "\n",
    "from sklearn import linear_model, datasets\n",
    "import pandas as pd\n",
    "df=pd.read_csv(\"/Users/harsha/Desktop/mtcars.csv\")\n",
    " \n",
    "y = df[['vs']]  \n",
    "x = df[['wt']]\n",
    " \n",
    "from sklearn.linear_model import LogisticRegression\n",
    "logistic = LogisticRegression()\n",
    "result=logistic.fit(x,y)\n",
    " \n",
    "test1=[2.1]\n",
    "test={'wt':test1}\n",
    "df1 = pd.DataFrame(data=test)\n",
    "# Make predictions using the testing set\n",
    "print (logistic.predict(df1))\n",
    " \n",
    "import pandas as pd\n",
    "def logpred(test2):\n",
    "    test={'wt':test2}\n",
    "    df1 = pd.DataFrame(data=test)\n",
    "    # Make predictions using the testing set\n",
    "    print (logistic.predict(df1))\n",
    "test3=[2.620]\n",
    "logpred(test3)\n",
    " \n",
    "test4=[2.1]\n",
    "logpred(test4)\n",
    " \n",
    "import statsmodels.api as sm\n",
    "logit_model=sm.Logit(y,x)\n",
    "result1=logit_model.fit()\n",
    "test2=[2.1]\n",
    "test={'wt':test2}\n",
    "df1 = pd.DataFrame(data=test)\n",
    "# Make predictions using the testing set\n",
    "print (result1.predict(df1))"
   ]
  },
  {
   "cell_type": "code",
   "execution_count": null,
   "metadata": {},
   "outputs": [],
   "source": []
  }
 ],
 "metadata": {
  "kernelspec": {
   "display_name": "Python 3",
   "language": "python",
   "name": "python3"
  },
  "language_info": {
   "codemirror_mode": {
    "name": "ipython",
    "version": 3
   },
   "file_extension": ".py",
   "mimetype": "text/x-python",
   "name": "python",
   "nbconvert_exporter": "python",
   "pygments_lexer": "ipython3",
   "version": "3.6.3"
  }
 },
 "nbformat": 4,
 "nbformat_minor": 2
}
